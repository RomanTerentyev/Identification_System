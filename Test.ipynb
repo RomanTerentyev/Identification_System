{
 "cells": [
  {
   "cell_type": "code",
   "execution_count": 1,
   "id": "7251bc05",
   "metadata": {},
   "outputs": [],
   "source": [
    "import requests"
   ]
  },
  {
   "cell_type": "code",
   "execution_count": 3,
   "id": "f5b46a30",
   "metadata": {
    "scrolled": true
   },
   "outputs": [
    {
     "data": {
      "text/plain": [
       "{'Должность': 'Инженер по компьютерному зрению',\n",
       " 'Идентификатор должности': '24',\n",
       " 'Идентификатор файла': 'successful_identifications/1.jpg',\n",
       " 'Имя сотрудника': 'Терентьев Р.А.',\n",
       " 'Количество лиц в кадре': 1,\n",
       " 'Ошибка идентификации': None,\n",
       " 'Порог точности': 0.6,\n",
       " 'Уверенность системы в схожести фотографий': 0.4854171198393966}"
      ]
     },
     "execution_count": 3,
     "metadata": {},
     "output_type": "execute_result"
    }
   ],
   "source": [
    "requests.post('http://127.0.0.1:5000/identification', json={'image': 'test_image_1.jpg', 'id': 1}).json()"
   ]
  },
  {
   "cell_type": "code",
   "execution_count": 4,
   "id": "22643998",
   "metadata": {},
   "outputs": [
    {
     "data": {
      "text/plain": [
       "{'Должность': 'Руководитель отдела',\n",
       " 'Идентификатор должности': '01',\n",
       " 'Идентификатор файла': 'unsuccessful_identifications/1.jpg',\n",
       " 'Имя сотрудника': 'Данилов Д.В.',\n",
       " 'Количество лиц в кадре': 1,\n",
       " 'Ошибка идентификации': 'Другой человек в кадре',\n",
       " 'Порог точности': 0.6,\n",
       " 'Уверенность системы в схожести фотографий': 0.6924555425180966}"
      ]
     },
     "execution_count": 4,
     "metadata": {},
     "output_type": "execute_result"
    }
   ],
   "source": [
    "requests.post('http://127.0.0.1:5000/identification', json={'image': 'test_image_1.jpg', 'id': 2}).json()"
   ]
  },
  {
   "cell_type": "code",
   "execution_count": 5,
   "id": "0b7f84e3",
   "metadata": {},
   "outputs": [
    {
     "data": {
      "text/plain": [
       "{'Должность': None,\n",
       " 'Идентификатор должности': None,\n",
       " 'Идентификатор файла': 'unsuccessful_identifications/2.jpg',\n",
       " 'Имя сотрудника': None,\n",
       " 'Количество лиц в кадре': None,\n",
       " 'Ошибка идентификации': 'Идентификационный номер отсутствует в БД',\n",
       " 'Порог точности': 0.6,\n",
       " 'Уверенность системы в схожести фотографий': None}"
      ]
     },
     "execution_count": 5,
     "metadata": {},
     "output_type": "execute_result"
    }
   ],
   "source": [
    "requests.post('http://127.0.0.1:5000/identification', json={'image': 'test_image_1.jpg', 'id': 10}).json()"
   ]
  },
  {
   "cell_type": "code",
   "execution_count": 6,
   "id": "eae6c4dd",
   "metadata": {},
   "outputs": [
    {
     "data": {
      "text/plain": [
       "{'Должность': 'Инженер по компьютерному зрению',\n",
       " 'Идентификатор должности': '24',\n",
       " 'Идентификатор файла': 'unsuccessful_identifications/3.jpg',\n",
       " 'Имя сотрудника': 'Терентьев Р.А.',\n",
       " 'Количество лиц в кадре': 0,\n",
       " 'Ошибка идентификации': 'Нет лиц в кадре',\n",
       " 'Порог точности': 0.6,\n",
       " 'Уверенность системы в схожести фотографий': None}"
      ]
     },
     "execution_count": 6,
     "metadata": {},
     "output_type": "execute_result"
    }
   ],
   "source": [
    "requests.post('http://127.0.0.1:5000/identification', json={'image': 'test_image_2.jpg', 'id': 1}).json()"
   ]
  },
  {
   "cell_type": "code",
   "execution_count": 7,
   "id": "21f38e14",
   "metadata": {},
   "outputs": [
    {
     "data": {
      "text/plain": [
       "{'Должность': 'Инженер по компьютерному зрению',\n",
       " 'Идентификатор должности': '24',\n",
       " 'Идентификатор файла': 'unsuccessful_identifications/4.jpg',\n",
       " 'Имя сотрудника': 'Терентьев Р.А.',\n",
       " 'Количество лиц в кадре': 6,\n",
       " 'Ошибка идентификации': 'Больше одного лица в кадре',\n",
       " 'Порог точности': 0.6,\n",
       " 'Уверенность системы в схожести фотографий': None}"
      ]
     },
     "execution_count": 7,
     "metadata": {},
     "output_type": "execute_result"
    }
   ],
   "source": [
    "requests.post('http://127.0.0.1:5000/identification', json={'image': 'test_image_3.jpg', 'id': 1}).json()"
   ]
  },
  {
   "cell_type": "code",
   "execution_count": null,
   "id": "90f099f0",
   "metadata": {},
   "outputs": [],
   "source": []
  }
 ],
 "metadata": {
  "kernelspec": {
   "display_name": "Python 3 (ipykernel)",
   "language": "python",
   "name": "python3"
  },
  "language_info": {
   "codemirror_mode": {
    "name": "ipython",
    "version": 3
   },
   "file_extension": ".py",
   "mimetype": "text/x-python",
   "name": "python",
   "nbconvert_exporter": "python",
   "pygments_lexer": "ipython3",
   "version": "3.8.3"
  }
 },
 "nbformat": 4,
 "nbformat_minor": 5
}
